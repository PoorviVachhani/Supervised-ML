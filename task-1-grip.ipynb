{
 "cells": [
  {
   "cell_type": "markdown",
   "id": "aeb7b0ef",
   "metadata": {
    "papermill": {
     "duration": 0.009114,
     "end_time": "2022-07-19T10:19:53.797982",
     "exception": false,
     "start_time": "2022-07-19T10:19:53.788868",
     "status": "completed"
    },
    "tags": []
   },
   "source": [
    "# The Sparks Foundation"
   ]
  },
  {
   "cell_type": "markdown",
   "id": "7c9899aa",
   "metadata": {
    "papermill": {
     "duration": 0.008043,
     "end_time": "2022-07-19T10:19:53.814353",
     "exception": false,
     "start_time": "2022-07-19T10:19:53.806310",
     "status": "completed"
    },
    "tags": []
   },
   "source": [
    "# Data Science & Business Analytics Internship"
   ]
  },
  {
   "cell_type": "markdown",
   "id": "5007072b",
   "metadata": {
    "papermill": {
     "duration": 0.008451,
     "end_time": "2022-07-19T10:19:53.831275",
     "exception": false,
     "start_time": "2022-07-19T10:19:53.822824",
     "status": "completed"
    },
    "tags": []
   },
   "source": [
    "# Task 1:- Prediction using Supervised ML"
   ]
  },
  {
   "cell_type": "markdown",
   "id": "872b68bf",
   "metadata": {
    "papermill": {
     "duration": 0.008406,
     "end_time": "2022-07-19T10:19:53.847784",
     "exception": false,
     "start_time": "2022-07-19T10:19:53.839378",
     "status": "completed"
    },
    "tags": []
   },
   "source": [
    "(Prediction of the percentage of an student based on the no. of study hours)\n",
    "\n",
    "By:- Poorvi Vachhani"
   ]
  },
  {
   "cell_type": "markdown",
   "id": "28163337",
   "metadata": {
    "papermill": {
     "duration": 0.013175,
     "end_time": "2022-07-19T10:19:53.875719",
     "exception": false,
     "start_time": "2022-07-19T10:19:53.862544",
     "status": "completed"
    },
    "tags": []
   },
   "source": [
    "Importing main libraries"
   ]
  },
  {
   "cell_type": "code",
   "execution_count": 1,
   "id": "1dd50af2",
   "metadata": {
    "execution": {
     "iopub.execute_input": "2022-07-19T10:19:53.906156Z",
     "iopub.status.busy": "2022-07-19T10:19:53.905739Z",
     "iopub.status.idle": "2022-07-19T10:19:53.927194Z",
     "shell.execute_reply": "2022-07-19T10:19:53.924936Z"
    },
    "id": "xrAo67yW4yDv",
    "papermill": {
     "duration": 0.037384,
     "end_time": "2022-07-19T10:19:53.930691",
     "exception": false,
     "start_time": "2022-07-19T10:19:53.893307",
     "status": "completed"
    },
    "tags": []
   },
   "outputs": [],
   "source": [
    "import numpy as np\n",
    "import pandas as pd\n",
    "import matplotlib.pyplot as plt\n",
    "%matplotlib inline"
   ]
  },
  {
   "cell_type": "markdown",
   "id": "5d5dfa6a",
   "metadata": {
    "id": "KQx6dMaNUSj4",
    "papermill": {
     "duration": 0.012042,
     "end_time": "2022-07-19T10:19:53.954430",
     "exception": false,
     "start_time": "2022-07-19T10:19:53.942388",
     "status": "completed"
    },
    "tags": []
   },
   "source": [
    "Importing Linear Regression Model"
   ]
  },
  {
   "cell_type": "code",
   "execution_count": 2,
   "id": "76710804",
   "metadata": {
    "execution": {
     "iopub.execute_input": "2022-07-19T10:19:53.979870Z",
     "iopub.status.busy": "2022-07-19T10:19:53.978775Z",
     "iopub.status.idle": "2022-07-19T10:19:55.029360Z",
     "shell.execute_reply": "2022-07-19T10:19:55.028388Z"
    },
    "id": "8O6h3H2WT1mu",
    "papermill": {
     "duration": 1.063194,
     "end_time": "2022-07-19T10:19:55.032097",
     "exception": false,
     "start_time": "2022-07-19T10:19:53.968903",
     "status": "completed"
    },
    "tags": []
   },
   "outputs": [],
   "source": [
    "from sklearn.model_selection import train_test_split\n",
    "from sklearn.linear_model import LinearRegression\n",
    "from sklearn import metrics"
   ]
  },
  {
   "cell_type": "markdown",
   "id": "d7b13df8",
   "metadata": {
    "id": "K7YPah76UosP",
    "papermill": {
     "duration": 0.007914,
     "end_time": "2022-07-19T10:19:55.048312",
     "exception": false,
     "start_time": "2022-07-19T10:19:55.040398",
     "status": "completed"
    },
    "tags": []
   },
   "source": [
    "Reading and Describing the Dataset"
   ]
  },
  {
   "cell_type": "code",
   "execution_count": 3,
   "id": "139f21a1",
   "metadata": {
    "execution": {
     "iopub.execute_input": "2022-07-19T10:19:55.066584Z",
     "iopub.status.busy": "2022-07-19T10:19:55.065730Z",
     "iopub.status.idle": "2022-07-19T10:19:55.086476Z",
     "shell.execute_reply": "2022-07-19T10:19:55.085655Z"
    },
    "id": "fPyoKMXM47uF",
    "papermill": {
     "duration": 0.031959,
     "end_time": "2022-07-19T10:19:55.088558",
     "exception": false,
     "start_time": "2022-07-19T10:19:55.056599",
     "status": "completed"
    },
    "tags": []
   },
   "outputs": [],
   "source": [
    "df = pd.read_csv('../input/task1/task1.csv')"
   ]
  },
  {
   "cell_type": "code",
   "execution_count": 4,
   "id": "5bcc4908",
   "metadata": {
    "execution": {
     "iopub.execute_input": "2022-07-19T10:19:55.106203Z",
     "iopub.status.busy": "2022-07-19T10:19:55.105693Z",
     "iopub.status.idle": "2022-07-19T10:19:55.121658Z",
     "shell.execute_reply": "2022-07-19T10:19:55.120672Z"
    },
    "id": "LJRofmBc5C9S",
    "outputId": "89c688ff-1d1d-483d-97fc-a0395def29c0",
    "papermill": {
     "duration": 0.028382,
     "end_time": "2022-07-19T10:19:55.124796",
     "exception": false,
     "start_time": "2022-07-19T10:19:55.096414",
     "status": "completed"
    },
    "tags": []
   },
   "outputs": [
    {
     "data": {
      "text/html": [
       "<div>\n",
       "<style scoped>\n",
       "    .dataframe tbody tr th:only-of-type {\n",
       "        vertical-align: middle;\n",
       "    }\n",
       "\n",
       "    .dataframe tbody tr th {\n",
       "        vertical-align: top;\n",
       "    }\n",
       "\n",
       "    .dataframe thead th {\n",
       "        text-align: right;\n",
       "    }\n",
       "</style>\n",
       "<table border=\"1\" class=\"dataframe\">\n",
       "  <thead>\n",
       "    <tr style=\"text-align: right;\">\n",
       "      <th></th>\n",
       "      <th>Hours</th>\n",
       "      <th>Scores</th>\n",
       "    </tr>\n",
       "  </thead>\n",
       "  <tbody>\n",
       "    <tr>\n",
       "      <th>0</th>\n",
       "      <td>2.5</td>\n",
       "      <td>21</td>\n",
       "    </tr>\n",
       "    <tr>\n",
       "      <th>1</th>\n",
       "      <td>5.1</td>\n",
       "      <td>47</td>\n",
       "    </tr>\n",
       "    <tr>\n",
       "      <th>2</th>\n",
       "      <td>3.2</td>\n",
       "      <td>27</td>\n",
       "    </tr>\n",
       "    <tr>\n",
       "      <th>3</th>\n",
       "      <td>8.5</td>\n",
       "      <td>75</td>\n",
       "    </tr>\n",
       "    <tr>\n",
       "      <th>4</th>\n",
       "      <td>3.5</td>\n",
       "      <td>30</td>\n",
       "    </tr>\n",
       "  </tbody>\n",
       "</table>\n",
       "</div>"
      ],
      "text/plain": [
       "   Hours  Scores\n",
       "0    2.5      21\n",
       "1    5.1      47\n",
       "2    3.2      27\n",
       "3    8.5      75\n",
       "4    3.5      30"
      ]
     },
     "execution_count": 4,
     "metadata": {},
     "output_type": "execute_result"
    }
   ],
   "source": [
    "df.head()"
   ]
  },
  {
   "cell_type": "code",
   "execution_count": 5,
   "id": "d0efdd2a",
   "metadata": {
    "execution": {
     "iopub.execute_input": "2022-07-19T10:19:55.142632Z",
     "iopub.status.busy": "2022-07-19T10:19:55.142331Z",
     "iopub.status.idle": "2022-07-19T10:19:55.168333Z",
     "shell.execute_reply": "2022-07-19T10:19:55.166924Z"
    },
    "id": "2VeKkzNGQ09A",
    "outputId": "8a09dea0-9591-4072-feb0-1d0d55489698",
    "papermill": {
     "duration": 0.038127,
     "end_time": "2022-07-19T10:19:55.171408",
     "exception": false,
     "start_time": "2022-07-19T10:19:55.133281",
     "status": "completed"
    },
    "tags": []
   },
   "outputs": [
    {
     "name": "stdout",
     "output_type": "stream",
     "text": [
      "<class 'pandas.core.frame.DataFrame'>\n",
      "RangeIndex: 25 entries, 0 to 24\n",
      "Data columns (total 2 columns):\n",
      " #   Column  Non-Null Count  Dtype  \n",
      "---  ------  --------------  -----  \n",
      " 0   Hours   25 non-null     float64\n",
      " 1   Scores  25 non-null     int64  \n",
      "dtypes: float64(1), int64(1)\n",
      "memory usage: 528.0 bytes\n"
     ]
    }
   ],
   "source": [
    "df.info()"
   ]
  },
  {
   "cell_type": "code",
   "execution_count": 6,
   "id": "fa20ef59",
   "metadata": {
    "execution": {
     "iopub.execute_input": "2022-07-19T10:19:55.189541Z",
     "iopub.status.busy": "2022-07-19T10:19:55.189279Z",
     "iopub.status.idle": "2022-07-19T10:19:55.206574Z",
     "shell.execute_reply": "2022-07-19T10:19:55.205593Z"
    },
    "id": "BXA_O-xD6bvY",
    "outputId": "8c19ef2f-13e4-44e7-8140-11a038323242",
    "papermill": {
     "duration": 0.028691,
     "end_time": "2022-07-19T10:19:55.208905",
     "exception": false,
     "start_time": "2022-07-19T10:19:55.180214",
     "status": "completed"
    },
    "tags": []
   },
   "outputs": [
    {
     "data": {
      "text/html": [
       "<div>\n",
       "<style scoped>\n",
       "    .dataframe tbody tr th:only-of-type {\n",
       "        vertical-align: middle;\n",
       "    }\n",
       "\n",
       "    .dataframe tbody tr th {\n",
       "        vertical-align: top;\n",
       "    }\n",
       "\n",
       "    .dataframe thead th {\n",
       "        text-align: right;\n",
       "    }\n",
       "</style>\n",
       "<table border=\"1\" class=\"dataframe\">\n",
       "  <thead>\n",
       "    <tr style=\"text-align: right;\">\n",
       "      <th></th>\n",
       "      <th>Hours</th>\n",
       "      <th>Scores</th>\n",
       "    </tr>\n",
       "  </thead>\n",
       "  <tbody>\n",
       "    <tr>\n",
       "      <th>count</th>\n",
       "      <td>25.000000</td>\n",
       "      <td>25.000000</td>\n",
       "    </tr>\n",
       "    <tr>\n",
       "      <th>mean</th>\n",
       "      <td>5.012000</td>\n",
       "      <td>51.480000</td>\n",
       "    </tr>\n",
       "    <tr>\n",
       "      <th>std</th>\n",
       "      <td>2.525094</td>\n",
       "      <td>25.286887</td>\n",
       "    </tr>\n",
       "    <tr>\n",
       "      <th>min</th>\n",
       "      <td>1.100000</td>\n",
       "      <td>17.000000</td>\n",
       "    </tr>\n",
       "    <tr>\n",
       "      <th>25%</th>\n",
       "      <td>2.700000</td>\n",
       "      <td>30.000000</td>\n",
       "    </tr>\n",
       "    <tr>\n",
       "      <th>50%</th>\n",
       "      <td>4.800000</td>\n",
       "      <td>47.000000</td>\n",
       "    </tr>\n",
       "    <tr>\n",
       "      <th>75%</th>\n",
       "      <td>7.400000</td>\n",
       "      <td>75.000000</td>\n",
       "    </tr>\n",
       "    <tr>\n",
       "      <th>max</th>\n",
       "      <td>9.200000</td>\n",
       "      <td>95.000000</td>\n",
       "    </tr>\n",
       "  </tbody>\n",
       "</table>\n",
       "</div>"
      ],
      "text/plain": [
       "           Hours     Scores\n",
       "count  25.000000  25.000000\n",
       "mean    5.012000  51.480000\n",
       "std     2.525094  25.286887\n",
       "min     1.100000  17.000000\n",
       "25%     2.700000  30.000000\n",
       "50%     4.800000  47.000000\n",
       "75%     7.400000  75.000000\n",
       "max     9.200000  95.000000"
      ]
     },
     "execution_count": 6,
     "metadata": {},
     "output_type": "execute_result"
    }
   ],
   "source": [
    "df.describe()"
   ]
  },
  {
   "cell_type": "markdown",
   "id": "a77bf208",
   "metadata": {
    "id": "OXbS7cVvU8Fe",
    "papermill": {
     "duration": 0.008111,
     "end_time": "2022-07-19T10:19:55.226180",
     "exception": false,
     "start_time": "2022-07-19T10:19:55.218069",
     "status": "completed"
    },
    "tags": []
   },
   "source": [
    "Visualizing dataset using plot "
   ]
  },
  {
   "cell_type": "code",
   "execution_count": 7,
   "id": "89cea5cf",
   "metadata": {
    "execution": {
     "iopub.execute_input": "2022-07-19T10:19:55.244289Z",
     "iopub.status.busy": "2022-07-19T10:19:55.244031Z",
     "iopub.status.idle": "2022-07-19T10:19:55.487808Z",
     "shell.execute_reply": "2022-07-19T10:19:55.486862Z"
    },
    "id": "CaYEYa9s_9Yk",
    "outputId": "1a2af358-b98c-4741-8dc3-ce6d853051e1",
    "papermill": {
     "duration": 0.255267,
     "end_time": "2022-07-19T10:19:55.489831",
     "exception": false,
     "start_time": "2022-07-19T10:19:55.234564",
     "status": "completed"
    },
    "tags": []
   },
   "outputs": [
    {
     "data": {
      "image/png": "[encoded data removed]",
      "text/plain": [
       "<Figure size 432x288 with 1 Axes>"
      ]
     },
     "metadata": {
      "needs_background": "light"
     },
     "output_type": "display_data"
    }
   ],
   "source": [
    "df.plot(x='Hours', y='Scores', color='red', style='*', markersize='9')\n",
    "plt.title('Hours Vs Percent')\n",
    "plt.xlabel('Total Hours Studied')\n",
    "plt.ylabel('Percent score')\n",
    "plt.grid()\n",
    "plt.show()"
   ]
  },
  {
   "cell_type": "markdown",
   "id": "8b24d1a0",
   "metadata": {
    "id": "EZQ5RYbWVsom",
    "papermill": {
     "duration": 0.00928,
     "end_time": "2022-07-19T10:19:55.508012",
     "exception": false,
     "start_time": "2022-07-19T10:19:55.498732",
     "status": "completed"
    },
    "tags": []
   },
   "source": [
    "The above plot shows that the variables Hours and Scores have a linear relationship between them as both of them are increasing parallely."
   ]
  },
  {
   "cell_type": "markdown",
   "id": "9247424e",
   "metadata": {
    "id": "TUvRZdoiV-DW",
    "papermill": {
     "duration": 0.008146,
     "end_time": "2022-07-19T10:19:55.525427",
     "exception": false,
     "start_time": "2022-07-19T10:19:55.517281",
     "status": "completed"
    },
    "tags": []
   },
   "source": [
    "Now we use .corr function to determine actual corelation between the variables"
   ]
  },
  {
   "cell_type": "code",
   "execution_count": 8,
   "id": "9fefc458",
   "metadata": {
    "execution": {
     "iopub.execute_input": "2022-07-19T10:19:55.546271Z",
     "iopub.status.busy": "2022-07-19T10:19:55.545886Z",
     "iopub.status.idle": "2022-07-19T10:19:55.566248Z",
     "shell.execute_reply": "2022-07-19T10:19:55.565214Z"
    },
    "id": "DgWUbywEASOM",
    "outputId": "84afe2b0-9db3-4b42-fec8-b4e3c9053901",
    "papermill": {
     "duration": 0.034727,
     "end_time": "2022-07-19T10:19:55.568855",
     "exception": false,
     "start_time": "2022-07-19T10:19:55.534128",
     "status": "completed"
    },
    "tags": []
   },
   "outputs": [
    {
     "data": {
      "text/html": [
       "<div>\n",
       "<style scoped>\n",
       "    .dataframe tbody tr th:only-of-type {\n",
       "        vertical-align: middle;\n",
       "    }\n",
       "\n",
       "    .dataframe tbody tr th {\n",
       "        vertical-align: top;\n",
       "    }\n",
       "\n",
       "    .dataframe thead th {\n",
       "        text-align: right;\n",
       "    }\n",
       "</style>\n",
       "<table border=\"1\" class=\"dataframe\">\n",
       "  <thead>\n",
       "    <tr style=\"text-align: right;\">\n",
       "      <th></th>\n",
       "      <th>Hours</th>\n",
       "      <th>Scores</th>\n",
       "    </tr>\n",
       "  </thead>\n",
       "  <tbody>\n",
       "    <tr>\n",
       "      <th>Hours</th>\n",
       "      <td>1.000000</td>\n",
       "      <td>0.976191</td>\n",
       "    </tr>\n",
       "    <tr>\n",
       "      <th>Scores</th>\n",
       "      <td>0.976191</td>\n",
       "      <td>1.000000</td>\n",
       "    </tr>\n",
       "  </tbody>\n",
       "</table>\n",
       "</div>"
      ],
      "text/plain": [
       "           Hours    Scores\n",
       "Hours   1.000000  0.976191\n",
       "Scores  0.976191  1.000000"
      ]
     },
     "execution_count": 8,
     "metadata": {},
     "output_type": "execute_result"
    }
   ],
   "source": [
    "df.corr()"
   ]
  },
  {
   "cell_type": "markdown",
   "id": "436da7c1",
   "metadata": {
    "id": "rrq6ZVldWl3m",
    "papermill": {
     "duration": 0.01644,
     "end_time": "2022-07-19T10:19:55.599382",
     "exception": false,
     "start_time": "2022-07-19T10:19:55.582942",
     "status": "completed"
    },
    "tags": []
   },
   "source": [
    "Preparing the data\n",
    "\n",
    "We divide data into dependent and independent variables using .iloc function"
   ]
  },
  {
   "cell_type": "code",
   "execution_count": 9,
   "id": "0bb7b243",
   "metadata": {
    "execution": {
     "iopub.execute_input": "2022-07-19T10:19:55.632282Z",
     "iopub.status.busy": "2022-07-19T10:19:55.631933Z",
     "iopub.status.idle": "2022-07-19T10:19:55.643666Z",
     "shell.execute_reply": "2022-07-19T10:19:55.642728Z"
    },
    "id": "tyQKFOphAeRb",
    "papermill": {
     "duration": 0.030888,
     "end_time": "2022-07-19T10:19:55.647238",
     "exception": false,
     "start_time": "2022-07-19T10:19:55.616350",
     "status": "completed"
    },
    "tags": []
   },
   "outputs": [],
   "source": [
    "X = df.iloc[:, :1].values  \n",
    "y = df.iloc[:, 1:].values"
   ]
  },
  {
   "cell_type": "markdown",
   "id": "0712aa86",
   "metadata": {
    "id": "NlrB0V6iW61O",
    "papermill": {
     "duration": 0.014009,
     "end_time": "2022-07-19T10:19:55.680405",
     "exception": false,
     "start_time": "2022-07-19T10:19:55.666396",
     "status": "completed"
    },
    "tags": []
   },
   "source": [
    "Splitting data into training and testing data"
   ]
  },
  {
   "cell_type": "code",
   "execution_count": 10,
   "id": "174e9470",
   "metadata": {
    "execution": {
     "iopub.execute_input": "2022-07-19T10:19:55.712122Z",
     "iopub.status.busy": "2022-07-19T10:19:55.711596Z",
     "iopub.status.idle": "2022-07-19T10:19:55.720389Z",
     "shell.execute_reply": "2022-07-19T10:19:55.719141Z"
    },
    "id": "PZwuwV4yAqh8",
    "papermill": {
     "duration": 0.028196,
     "end_time": "2022-07-19T10:19:55.724365",
     "exception": false,
     "start_time": "2022-07-19T10:19:55.696169",
     "status": "completed"
    },
    "tags": []
   },
   "outputs": [],
   "source": [
    "  X_train, X_test, y_train, y_test = train_test_split(X, y,test_size=0.2, random_state=0)"
   ]
  },
  {
   "cell_type": "markdown",
   "id": "215a59b1",
   "metadata": {
    "id": "QHW86tz2XbZm",
    "papermill": {
     "duration": 0.01674,
     "end_time": "2022-07-19T10:19:55.760775",
     "exception": false,
     "start_time": "2022-07-19T10:19:55.744035",
     "status": "completed"
    },
    "tags": []
   },
   "source": [
    "Training the Algorithm\n",
    "\n",
    "After spliting the data, we will now train our Model"
   ]
  },
  {
   "cell_type": "code",
   "execution_count": 11,
   "id": "01156ef6",
   "metadata": {
    "execution": {
     "iopub.execute_input": "2022-07-19T10:19:55.796234Z",
     "iopub.status.busy": "2022-07-19T10:19:55.795544Z",
     "iopub.status.idle": "2022-07-19T10:19:55.818005Z",
     "shell.execute_reply": "2022-07-19T10:19:55.817048Z"
    },
    "id": "9LZDaVI2Av38",
    "outputId": "d4ab203a-0dff-4888-f789-af4f02cbc006",
    "papermill": {
     "duration": 0.043811,
     "end_time": "2022-07-19T10:19:55.822127",
     "exception": false,
     "start_time": "2022-07-19T10:19:55.778316",
     "status": "completed"
    },
    "tags": []
   },
   "outputs": [
    {
     "data": {
      "text/plain": [
       "LinearRegression()"
      ]
     },
     "execution_count": 11,
     "metadata": {},
     "output_type": "execute_result"
    }
   ],
   "source": [
    "model = LinearRegression()\n",
    "model.fit(X_train, y_train)"
   ]
  },
  {
   "cell_type": "markdown",
   "id": "f01e752d",
   "metadata": {
    "id": "oMVdz7XKX3tu",
    "papermill": {
     "duration": 0.015828,
     "end_time": "2022-07-19T10:19:55.853865",
     "exception": false,
     "start_time": "2022-07-19T10:19:55.838037",
     "status": "completed"
    },
    "tags": []
   },
   "source": [
    "Now we print the coefficients and intercepts of model using .coef_ &  .intercept_ function"
   ]
  },
  {
   "cell_type": "code",
   "execution_count": 12,
   "id": "61f9c230",
   "metadata": {
    "execution": {
     "iopub.execute_input": "2022-07-19T10:19:55.887496Z",
     "iopub.status.busy": "2022-07-19T10:19:55.887086Z",
     "iopub.status.idle": "2022-07-19T10:19:55.895901Z",
     "shell.execute_reply": "2022-07-19T10:19:55.894970Z"
    },
    "id": "fn6pWLRvBwpF",
    "outputId": "2d797469-9b34-4814-c1d8-3caed0042362",
    "papermill": {
     "duration": 0.029833,
     "end_time": "2022-07-19T10:19:55.900297",
     "exception": false,
     "start_time": "2022-07-19T10:19:55.870464",
     "status": "completed"
    },
    "tags": []
   },
   "outputs": [
    {
     "data": {
      "text/plain": [
       "array([[9.91065648]])"
      ]
     },
     "execution_count": 12,
     "metadata": {},
     "output_type": "execute_result"
    }
   ],
   "source": [
    "model.coef_"
   ]
  },
  {
   "cell_type": "code",
   "execution_count": 13,
   "id": "3f436038",
   "metadata": {
    "execution": {
     "iopub.execute_input": "2022-07-19T10:19:55.932945Z",
     "iopub.status.busy": "2022-07-19T10:19:55.932575Z",
     "iopub.status.idle": "2022-07-19T10:19:55.939146Z",
     "shell.execute_reply": "2022-07-19T10:19:55.938354Z"
    },
    "id": "2Q77JrmkB2GN",
    "outputId": "29667717-0f11-4513-83b8-1bf3550faeab",
    "papermill": {
     "duration": 0.029338,
     "end_time": "2022-07-19T10:19:55.945272",
     "exception": false,
     "start_time": "2022-07-19T10:19:55.915934",
     "status": "completed"
    },
    "tags": []
   },
   "outputs": [
    {
     "data": {
      "text/plain": [
       "array([2.01816004])"
      ]
     },
     "execution_count": 13,
     "metadata": {},
     "output_type": "execute_result"
    }
   ],
   "source": [
    "model.intercept_"
   ]
  },
  {
   "cell_type": "markdown",
   "id": "39ccda37",
   "metadata": {
    "id": "xaVzVzyEYKwc",
    "papermill": {
     "duration": 0.015391,
     "end_time": "2022-07-19T10:19:55.976102",
     "exception": false,
     "start_time": "2022-07-19T10:19:55.960711",
     "status": "completed"
    },
    "tags": []
   },
   "source": [
    "Visualizing Model\n",
    "\n",
    "Plotting the training data"
   ]
  },
  {
   "cell_type": "code",
   "execution_count": 14,
   "id": "625fa6a3",
   "metadata": {
    "execution": {
     "iopub.execute_input": "2022-07-19T10:19:56.008870Z",
     "iopub.status.busy": "2022-07-19T10:19:56.008511Z",
     "iopub.status.idle": "2022-07-19T10:19:56.249212Z",
     "shell.execute_reply": "2022-07-19T10:19:56.248205Z"
    },
    "id": "r-_Ocw4oB5sz",
    "outputId": "518813ef-c4bb-4c76-e30f-cb49f32f4da4",
    "papermill": {
     "duration": 0.259343,
     "end_time": "2022-07-19T10:19:56.251207",
     "exception": false,
     "start_time": "2022-07-19T10:19:55.991864",
     "status": "completed"
    },
    "tags": []
   },
   "outputs": [
    {
     "data": {
      "image/png": "[encoded data removed]",
      "text/plain": [
       "<Figure size 432x288 with 1 Axes>"
      ]
     },
     "metadata": {
      "needs_background": "light"
     },
     "output_type": "display_data"
    }
   ],
   "source": [
    "line = model.coef_*X + model.intercept_  # Plotting the regression line\n",
    "\n",
    "plt.scatter(X_train, y_train, color='blue')\n",
    "plt.plot(X, line, color='black');\n",
    "plt.xlabel('Hours Studied')  \n",
    "plt.ylabel('Percent Score') \n",
    "plt.grid()\n",
    "plt.show()"
   ]
  },
  {
   "cell_type": "markdown",
   "id": "c4237025",
   "metadata": {
    "id": "26UuOeNWYr1v",
    "papermill": {
     "duration": 0.008988,
     "end_time": "2022-07-19T10:19:56.269830",
     "exception": false,
     "start_time": "2022-07-19T10:19:56.260842",
     "status": "completed"
    },
    "tags": []
   },
   "source": [
    "Plotting the testing data"
   ]
  },
  {
   "cell_type": "code",
   "execution_count": 15,
   "id": "034418d7",
   "metadata": {
    "execution": {
     "iopub.execute_input": "2022-07-19T10:19:56.290263Z",
     "iopub.status.busy": "2022-07-19T10:19:56.289606Z",
     "iopub.status.idle": "2022-07-19T10:19:56.487391Z",
     "shell.execute_reply": "2022-07-19T10:19:56.486513Z"
    },
    "id": "A71JEbVOCtmF",
    "outputId": "d127cdf2-bbf9-4b3b-d101-42e39c6b8cd7",
    "papermill": {
     "duration": 0.21033,
     "end_time": "2022-07-19T10:19:56.489489",
     "exception": false,
     "start_time": "2022-07-19T10:19:56.279159",
     "status": "completed"
    },
    "tags": []
   },
   "outputs": [
    {
     "data": {
      "image/png": "[encoded data removed]",
      "text/plain": [
       "<Figure size 432x288 with 1 Axes>"
      ]
     },
     "metadata": {
      "needs_background": "light"
     },
     "output_type": "display_data"
    }
   ],
   "source": [
    "plt.scatter(X_test, y_test, color='blue')\n",
    "plt.plot(X, line, color='black');\n",
    "plt.xlabel('Hours Studied')  \n",
    "plt.ylabel('Percent Score') \n",
    "plt.grid()\n",
    "plt.show()"
   ]
  },
  {
   "cell_type": "markdown",
   "id": "4aff4bea",
   "metadata": {
    "id": "znOQdv2oZCN1",
    "papermill": {
     "duration": 0.009617,
     "end_time": "2022-07-19T10:19:56.508909",
     "exception": false,
     "start_time": "2022-07-19T10:19:56.499292",
     "status": "completed"
    },
    "tags": []
   },
   "source": [
    "Predicting the Model"
   ]
  },
  {
   "cell_type": "code",
   "execution_count": 16,
   "id": "2d433ad2",
   "metadata": {
    "execution": {
     "iopub.execute_input": "2022-07-19T10:19:56.529490Z",
     "iopub.status.busy": "2022-07-19T10:19:56.528813Z",
     "iopub.status.idle": "2022-07-19T10:19:56.535668Z",
     "shell.execute_reply": "2022-07-19T10:19:56.534239Z"
    },
    "id": "dC0OPCYmI_08",
    "outputId": "f1db21f4-412e-44ae-c8fd-0c259627ce2f",
    "papermill": {
     "duration": 0.019148,
     "end_time": "2022-07-19T10:19:56.537690",
     "exception": false,
     "start_time": "2022-07-19T10:19:56.518542",
     "status": "completed"
    },
    "tags": []
   },
   "outputs": [
    {
     "name": "stdout",
     "output_type": "stream",
     "text": [
      "[[1.5]\n",
      " [3.2]\n",
      " [7.4]\n",
      " [2.5]\n",
      " [5.9]]\n"
     ]
    }
   ],
   "source": [
    "print(X_test)\n",
    "y_pred = model.predict(X_test)"
   ]
  },
  {
   "cell_type": "markdown",
   "id": "ed22f643",
   "metadata": {
    "id": "sdj7BpPVZJT-",
    "papermill": {
     "duration": 0.009216,
     "end_time": "2022-07-19T10:19:56.556525",
     "exception": false,
     "start_time": "2022-07-19T10:19:56.547309",
     "status": "completed"
    },
    "tags": []
   },
   "source": [
    "Creating dataframe that will include Actual and Predicted score"
   ]
  },
  {
   "cell_type": "code",
   "execution_count": 17,
   "id": "d0508435",
   "metadata": {
    "execution": {
     "iopub.execute_input": "2022-07-19T10:19:56.577897Z",
     "iopub.status.busy": "2022-07-19T10:19:56.577563Z",
     "iopub.status.idle": "2022-07-19T10:19:56.591382Z",
     "shell.execute_reply": "2022-07-19T10:19:56.590441Z"
    },
    "id": "-DC_uW3UJHfK",
    "outputId": "e4c76046-bf86-4363-e041-5818617ef085",
    "papermill": {
     "duration": 0.027204,
     "end_time": "2022-07-19T10:19:56.593368",
     "exception": false,
     "start_time": "2022-07-19T10:19:56.566164",
     "status": "completed"
    },
    "tags": []
   },
   "outputs": [
    {
     "data": {
      "text/html": [
       "<div>\n",
       "<style scoped>\n",
       "    .dataframe tbody tr th:only-of-type {\n",
       "        vertical-align: middle;\n",
       "    }\n",
       "\n",
       "    .dataframe tbody tr th {\n",
       "        vertical-align: top;\n",
       "    }\n",
       "\n",
       "    .dataframe thead th {\n",
       "        text-align: right;\n",
       "    }\n",
       "</style>\n",
       "<table border=\"1\" class=\"dataframe\">\n",
       "  <thead>\n",
       "    <tr style=\"text-align: right;\">\n",
       "      <th></th>\n",
       "      <th>Actual score</th>\n",
       "      <th>Predicted score</th>\n",
       "    </tr>\n",
       "  </thead>\n",
       "  <tbody>\n",
       "    <tr>\n",
       "      <th>0</th>\n",
       "      <td>[[20], [27], [69], [30], [62]]</td>\n",
       "      <td>[[16.884144762398023], [33.732260779489835], [...</td>\n",
       "    </tr>\n",
       "  </tbody>\n",
       "</table>\n",
       "</div>"
      ],
      "text/plain": [
       "                     Actual score  \\\n",
       "0  [[20], [27], [69], [30], [62]]   \n",
       "\n",
       "                                     Predicted score  \n",
       "0  [[16.884144762398023], [33.732260779489835], [...  "
      ]
     },
     "execution_count": 17,
     "metadata": {},
     "output_type": "execute_result"
    }
   ],
   "source": [
    "df1 = pd.DataFrame ({'Actual score': [y_test], 'Predicted score': [y_pred] })  \n",
    "df1"
   ]
  },
  {
   "cell_type": "markdown",
   "id": "e361db7c",
   "metadata": {
    "id": "9aT0W9yka5-O",
    "papermill": {
     "duration": 0.009385,
     "end_time": "2022-07-19T10:19:56.613449",
     "exception": false,
     "start_time": "2022-07-19T10:19:56.604064",
     "status": "completed"
    },
    "tags": []
   },
   "source": [
    "Now to find answer to the question- What will be predicted score if a student studies for 9.25 hrs/ day?\n",
    "\n",
    "we will now predict the score for the given 9.25 hrs"
   ]
  },
  {
   "cell_type": "code",
   "execution_count": 18,
   "id": "066ec9e9",
   "metadata": {
    "execution": {
     "iopub.execute_input": "2022-07-19T10:19:56.634772Z",
     "iopub.status.busy": "2022-07-19T10:19:56.633381Z",
     "iopub.status.idle": "2022-07-19T10:19:56.639876Z",
     "shell.execute_reply": "2022-07-19T10:19:56.638680Z"
    },
    "id": "CWFPIcZJPe35",
    "outputId": "f324878c-002f-40a1-88b0-da254cf9fb58",
    "papermill": {
     "duration": 0.019203,
     "end_time": "2022-07-19T10:19:56.642206",
     "exception": false,
     "start_time": "2022-07-19T10:19:56.623003",
     "status": "completed"
    },
    "tags": []
   },
   "outputs": [
    {
     "name": "stdout",
     "output_type": "stream",
     "text": [
      "The predicted score for a person who studies for 9.25 hours is [93.69173249]\n"
     ]
    }
   ],
   "source": [
    "hrs = 9.25\n",
    "g_pred = model.predict([[hrs]])\n",
    "print(\"The predicted score for a person who studies for\",hrs,\"hours is\",g_pred[0])"
   ]
  },
  {
   "cell_type": "markdown",
   "id": "fd72e097",
   "metadata": {
    "id": "VLTo0HMrbd2G",
    "papermill": {
     "duration": 0.009332,
     "end_time": "2022-07-19T10:19:56.661342",
     "exception": false,
     "start_time": "2022-07-19T10:19:56.652010",
     "status": "completed"
    },
    "tags": []
   },
   "source": [
    "**[93.69173249] this is our final answer**"
   ]
  },
  {
   "cell_type": "markdown",
   "id": "da62ed87",
   "metadata": {
    "id": "jNEgxoURbsss",
    "papermill": {
     "duration": 0.009408,
     "end_time": "2022-07-19T10:19:56.680370",
     "exception": false,
     "start_time": "2022-07-19T10:19:56.670962",
     "status": "completed"
    },
    "tags": []
   },
   "source": [
    "Evaluating the Model by calculating MAE and r score"
   ]
  },
  {
   "cell_type": "code",
   "execution_count": 19,
   "id": "7b4f1635",
   "metadata": {
    "execution": {
     "iopub.execute_input": "2022-07-19T10:19:56.700761Z",
     "iopub.status.busy": "2022-07-19T10:19:56.700467Z",
     "iopub.status.idle": "2022-07-19T10:19:56.708041Z",
     "shell.execute_reply": "2022-07-19T10:19:56.706599Z"
    },
    "id": "Eqgi7YXdPsoh",
    "outputId": "2d382103-d2c1-4d55-e28f-f831507b0065",
    "papermill": {
     "duration": 0.021064,
     "end_time": "2022-07-19T10:19:56.711111",
     "exception": false,
     "start_time": "2022-07-19T10:19:56.690047",
     "status": "completed"
    },
    "tags": []
   },
   "outputs": [
    {
     "name": "stdout",
     "output_type": "stream",
     "text": [
      "Mean Absolute Error: 4.183859899002982\n",
      "r2 = 0.9454906892105354\n"
     ]
    }
   ],
   "source": [
    "from sklearn.metrics import explained_variance_score, mean_squared_error, r2_score\n",
    "print('Mean Absolute Error:', metrics.mean_absolute_error(y_test, y_pred))\n",
    "r_squared = r2_score(y_test, y_pred)\n",
    "print('r2 = {}'.format(r_squared))"
   ]
  },
  {
   "cell_type": "markdown",
   "id": "605b9cec",
   "metadata": {
    "id": "6hVCf86icEGl",
    "papermill": {
     "duration": 0.00942,
     "end_time": "2022-07-19T10:19:56.731062",
     "exception": false,
     "start_time": "2022-07-19T10:19:56.721642",
     "status": "completed"
    },
    "tags": []
   },
   "source": [
    "From the above calculation of R_score (0.95 approx) we can conclude that our dependent variable is much more predictable without any error"
   ]
  },
  {
   "cell_type": "markdown",
   "id": "5847aff2",
   "metadata": {
    "id": "CNrudEgqQNxo",
    "papermill": {
     "duration": 0.009582,
     "end_time": "2022-07-19T10:19:56.750510",
     "exception": false,
     "start_time": "2022-07-19T10:19:56.740928",
     "status": "completed"
    },
    "tags": []
   },
   "source": [
    "In this regression task we estimate the percentage of marks a student is expected to receive based on the number of hours he or she studied. This is an easy Linear Regression task based on supervised learning as it includes just two variables (Hours and Scores)."
   ]
  }
 ],
 "metadata": {
  "kernelspec": {
   "display_name": "Python 3",
   "language": "python",
   "name": "python3"
  },
  "language_info": {
   "codemirror_mode": {
    "name": "ipython",
    "version": 3
   },
   "file_extension": ".py",
   "mimetype": "text/x-python",
   "name": "python",
   "nbconvert_exporter": "python",
   "pygments_lexer": "ipython3",
   "version": "3.7.12"
  },
  "papermill": {
   "default_parameters": {},
   "duration": 12.116352,
   "end_time": "2022-07-19T10:19:57.481728",
   "environment_variables": {},
   "exception": null,
   "input_path": "__notebook__.ipynb",
   "output_path": "__notebook__.ipynb",
   "parameters": {},
   "start_time": "2022-07-19T10:19:45.365376",
   "version": "2.3.4"
  }
 },
 "nbformat": 4,
 "nbformat_minor": 5
}
